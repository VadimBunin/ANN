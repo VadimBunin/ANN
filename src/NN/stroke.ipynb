{
 "cells": [
  {
   "cell_type": "code",
   "execution_count": 1,
   "id": "ac5b7d9f",
   "metadata": {},
   "outputs": [],
   "source": [
    "import torch\n",
    "import torch.nn as nn\n",
    "\n",
    "import numpy as np\n",
    "import pandas as pd\n",
    "import matplotlib.pyplot as plt\n",
    "import kit"
   ]
  },
  {
   "cell_type": "code",
   "execution_count": 2,
   "id": "5ba9b98c",
   "metadata": {},
   "outputs": [],
   "source": [
    "df =pd.read_csv(\"healthcare-dataset-stroke-data.csv\")"
   ]
  },
  {
   "cell_type": "code",
   "execution_count": 3,
   "id": "33146ddd",
   "metadata": {},
   "outputs": [
    {
     "data": {
      "text/html": [
       "<div>\n",
       "<style scoped>\n",
       "    .dataframe tbody tr th:only-of-type {\n",
       "        vertical-align: middle;\n",
       "    }\n",
       "\n",
       "    .dataframe tbody tr th {\n",
       "        vertical-align: top;\n",
       "    }\n",
       "\n",
       "    .dataframe thead th {\n",
       "        text-align: right;\n",
       "    }\n",
       "</style>\n",
       "<table border=\"1\" class=\"dataframe\">\n",
       "  <thead>\n",
       "    <tr style=\"text-align: right;\">\n",
       "      <th></th>\n",
       "      <th>id</th>\n",
       "      <th>gender</th>\n",
       "      <th>age</th>\n",
       "      <th>hypertension</th>\n",
       "      <th>heart_disease</th>\n",
       "      <th>ever_married</th>\n",
       "      <th>work_type</th>\n",
       "      <th>Residence_type</th>\n",
       "      <th>avg_glucose_level</th>\n",
       "      <th>bmi</th>\n",
       "      <th>smoking_status</th>\n",
       "      <th>stroke</th>\n",
       "    </tr>\n",
       "  </thead>\n",
       "  <tbody>\n",
       "    <tr>\n",
       "      <th>0</th>\n",
       "      <td>9046</td>\n",
       "      <td>Male</td>\n",
       "      <td>67.0</td>\n",
       "      <td>0</td>\n",
       "      <td>1</td>\n",
       "      <td>Yes</td>\n",
       "      <td>Private</td>\n",
       "      <td>Urban</td>\n",
       "      <td>228.69</td>\n",
       "      <td>36.6</td>\n",
       "      <td>formerly smoked</td>\n",
       "      <td>1</td>\n",
       "    </tr>\n",
       "    <tr>\n",
       "      <th>1</th>\n",
       "      <td>51676</td>\n",
       "      <td>Female</td>\n",
       "      <td>61.0</td>\n",
       "      <td>0</td>\n",
       "      <td>0</td>\n",
       "      <td>Yes</td>\n",
       "      <td>Self-employed</td>\n",
       "      <td>Rural</td>\n",
       "      <td>202.21</td>\n",
       "      <td>NaN</td>\n",
       "      <td>never smoked</td>\n",
       "      <td>1</td>\n",
       "    </tr>\n",
       "    <tr>\n",
       "      <th>2</th>\n",
       "      <td>31112</td>\n",
       "      <td>Male</td>\n",
       "      <td>80.0</td>\n",
       "      <td>0</td>\n",
       "      <td>1</td>\n",
       "      <td>Yes</td>\n",
       "      <td>Private</td>\n",
       "      <td>Rural</td>\n",
       "      <td>105.92</td>\n",
       "      <td>32.5</td>\n",
       "      <td>never smoked</td>\n",
       "      <td>1</td>\n",
       "    </tr>\n",
       "    <tr>\n",
       "      <th>3</th>\n",
       "      <td>60182</td>\n",
       "      <td>Female</td>\n",
       "      <td>49.0</td>\n",
       "      <td>0</td>\n",
       "      <td>0</td>\n",
       "      <td>Yes</td>\n",
       "      <td>Private</td>\n",
       "      <td>Urban</td>\n",
       "      <td>171.23</td>\n",
       "      <td>34.4</td>\n",
       "      <td>smokes</td>\n",
       "      <td>1</td>\n",
       "    </tr>\n",
       "    <tr>\n",
       "      <th>4</th>\n",
       "      <td>1665</td>\n",
       "      <td>Female</td>\n",
       "      <td>79.0</td>\n",
       "      <td>1</td>\n",
       "      <td>0</td>\n",
       "      <td>Yes</td>\n",
       "      <td>Self-employed</td>\n",
       "      <td>Rural</td>\n",
       "      <td>174.12</td>\n",
       "      <td>24.0</td>\n",
       "      <td>never smoked</td>\n",
       "      <td>1</td>\n",
       "    </tr>\n",
       "  </tbody>\n",
       "</table>\n",
       "</div>"
      ],
      "text/plain": [
       "      id  gender   age  hypertension  heart_disease ever_married  \\\n",
       "0   9046    Male  67.0             0              1          Yes   \n",
       "1  51676  Female  61.0             0              0          Yes   \n",
       "2  31112    Male  80.0             0              1          Yes   \n",
       "3  60182  Female  49.0             0              0          Yes   \n",
       "4   1665  Female  79.0             1              0          Yes   \n",
       "\n",
       "       work_type Residence_type  avg_glucose_level   bmi   smoking_status  \\\n",
       "0        Private          Urban             228.69  36.6  formerly smoked   \n",
       "1  Self-employed          Rural             202.21   NaN     never smoked   \n",
       "2        Private          Rural             105.92  32.5     never smoked   \n",
       "3        Private          Urban             171.23  34.4           smokes   \n",
       "4  Self-employed          Rural             174.12  24.0     never smoked   \n",
       "\n",
       "   stroke  \n",
       "0       1  \n",
       "1       1  \n",
       "2       1  \n",
       "3       1  \n",
       "4       1  "
      ]
     },
     "execution_count": 3,
     "metadata": {},
     "output_type": "execute_result"
    }
   ],
   "source": [
    "df.head()"
   ]
  },
  {
   "cell_type": "code",
   "execution_count": 4,
   "id": "ac124eaf",
   "metadata": {},
   "outputs": [
    {
     "data": {
      "text/plain": [
       "5110"
      ]
     },
     "execution_count": 4,
     "metadata": {},
     "output_type": "execute_result"
    }
   ],
   "source": [
    "len(df)"
   ]
  },
  {
   "cell_type": "code",
   "execution_count": 5,
   "id": "bfb707bd",
   "metadata": {},
   "outputs": [],
   "source": [
    "df = df.dropna(axis=1)"
   ]
  },
  {
   "cell_type": "code",
   "execution_count": 6,
   "id": "46c1fe11",
   "metadata": {},
   "outputs": [
    {
     "name": "stdout",
     "output_type": "stream",
     "text": [
      "<class 'pandas.core.frame.DataFrame'>\n",
      "RangeIndex: 5110 entries, 0 to 5109\n",
      "Data columns (total 11 columns):\n",
      " #   Column             Non-Null Count  Dtype  \n",
      "---  ------             --------------  -----  \n",
      " 0   id                 5110 non-null   int64  \n",
      " 1   gender             5110 non-null   object \n",
      " 2   age                5110 non-null   float64\n",
      " 3   hypertension       5110 non-null   int64  \n",
      " 4   heart_disease      5110 non-null   int64  \n",
      " 5   ever_married       5110 non-null   object \n",
      " 6   work_type          5110 non-null   object \n",
      " 7   Residence_type     5110 non-null   object \n",
      " 8   avg_glucose_level  5110 non-null   float64\n",
      " 9   smoking_status     5110 non-null   object \n",
      " 10  stroke             5110 non-null   int64  \n",
      "dtypes: float64(2), int64(4), object(5)\n",
      "memory usage: 439.3+ KB\n"
     ]
    }
   ],
   "source": [
    "df.info()"
   ]
  },
  {
   "cell_type": "markdown",
   "id": "076da1d5",
   "metadata": {},
   "source": [
    "## Working with tabular data\n",
    "Deep learning with neural networks is often associated with sophisticated image recognition, and in upcoming sections we'll train models based on properties like pixels patterns and colors.\n",
    "\n",
    "Here we're working with tabular data (spreadsheets, SQL tables, etc.) with columns of values that may or may not be relevant. As it happens, neural networks can learn to make connections we probably wouldn't have developed on our own. However, to do this we have to handle categorical values separately from continuous ones. Make sure to watch the theory lectures! You'll want to be comfortable with:\n",
    "* continuous vs. categorical values\n",
    "* embeddings\n",
    "* batch normalization\n",
    "* dropout layers"
   ]
  },
  {
   "cell_type": "markdown",
   "id": "0b92ee6e",
   "metadata": {},
   "source": [
    "## Separate categorical from continuous columns"
   ]
  },
  {
   "cell_type": "code",
   "execution_count": 7,
   "id": "d6d6cc34",
   "metadata": {},
   "outputs": [
    {
     "data": {
      "text/plain": [
       "Index(['id', 'gender', 'age', 'hypertension', 'heart_disease', 'ever_married',\n",
       "       'work_type', 'Residence_type', 'avg_glucose_level', 'smoking_status',\n",
       "       'stroke'],\n",
       "      dtype='object')"
      ]
     },
     "execution_count": 7,
     "metadata": {},
     "output_type": "execute_result"
    }
   ],
   "source": [
    "df.columns"
   ]
  },
  {
   "cell_type": "code",
   "execution_count": 10,
   "id": "810a2678",
   "metadata": {},
   "outputs": [],
   "source": [
    "cat_cols = ['gender','ever_married','work_type', 'Residence_type','smoking_status']\n",
    "y_col = ['stroke']\n",
    "cont_cols = [col for col in df.columns if col not in cat_cols + y_col]\n"
   ]
  },
  {
   "cell_type": "markdown",
   "id": "12eeb25b",
   "metadata": {},
   "source": [
    "## Categorify\n",
    "Pandas offers a <a href='https://pandas.pydata.org/pandas-docs/stable/user_guide/categorical.html'><strong>category dtype</strong></a> for converting categorical values to numerical codes. A dataset containing months of the year will be assigned 12 codes, one for each month. These will usually be the integers 0 to 11. Pandas replaces the column values with codes, and retains an index list of category values. In the steps ahead we'll call the categorical values \"names\" and the encodings \"codes\""
   ]
  },
  {
   "cell_type": "code",
   "execution_count": 11,
   "id": "c6bf92c3",
   "metadata": {},
   "outputs": [],
   "source": [
    "for col in cat_cols:\n",
    "    df[col] = df[col].astype('category')"
   ]
  },
  {
   "cell_type": "code",
   "execution_count": 12,
   "id": "a32079ff",
   "metadata": {},
   "outputs": [
    {
     "name": "stdout",
     "output_type": "stream",
     "text": [
      "<class 'pandas.core.frame.DataFrame'>\n",
      "RangeIndex: 5110 entries, 0 to 5109\n",
      "Data columns (total 11 columns):\n",
      " #   Column             Non-Null Count  Dtype   \n",
      "---  ------             --------------  -----   \n",
      " 0   id                 5110 non-null   int64   \n",
      " 1   gender             5110 non-null   category\n",
      " 2   age                5110 non-null   float64 \n",
      " 3   hypertension       5110 non-null   int64   \n",
      " 4   heart_disease      5110 non-null   int64   \n",
      " 5   ever_married       5110 non-null   category\n",
      " 6   work_type          5110 non-null   category\n",
      " 7   Residence_type     5110 non-null   category\n",
      " 8   avg_glucose_level  5110 non-null   float64 \n",
      " 9   smoking_status     5110 non-null   category\n",
      " 10  stroke             5110 non-null   int64   \n",
      "dtypes: category(5), float64(2), int64(4)\n",
      "memory usage: 265.4 KB\n"
     ]
    }
   ],
   "source": [
    "df.info()"
   ]
  },
  {
   "cell_type": "code",
   "execution_count": 16,
   "id": "42e585ab",
   "metadata": {},
   "outputs": [
    {
     "data": {
      "text/plain": [
       "array([1, 0, 2], dtype=int8)"
      ]
     },
     "execution_count": 16,
     "metadata": {},
     "output_type": "execute_result"
    }
   ],
   "source": [
    "df['gender'].cat.codes.unique()"
   ]
  },
  {
   "cell_type": "markdown",
   "id": "33862cac",
   "metadata": {},
   "source": [
    "Now we want to combine the three categorical columns into one input array using <a href='https://docs.scipy.org/doc/numpy/reference/generated/numpy.stack.html'><tt>numpy.stack</tt></a> We don't want the Series index, just the values."
   ]
  },
  {
   "cell_type": "code",
   "execution_count": 17,
   "id": "854a796e",
   "metadata": {},
   "outputs": [],
   "source": [
    "gender = df['gender'].cat.codes.values\n",
    "married = df['ever_married'].cat.codes.values\n",
    "wt = df['work_type'].cat.codes.values\n",
    "rt= df['Residence_type'].cat.codes.values\n",
    "smoke= df['smoking_status'].cat.codes.values"
   ]
  },
  {
   "cell_type": "code",
   "execution_count": 18,
   "id": "f912cab1",
   "metadata": {},
   "outputs": [],
   "source": [
    "cats = np.stack([gender,married,wt,rt,smoke],1)"
   ]
  },
  {
   "cell_type": "markdown",
   "id": "cbe19762",
   "metadata": {},
   "source": [
    "# Convert numpy arrays to tensors"
   ]
  },
  {
   "cell_type": "code",
   "execution_count": 19,
   "id": "f907e6b8",
   "metadata": {},
   "outputs": [],
   "source": [
    "cats = torch.tensor(cats, dtype = torch.int64)"
   ]
  },
  {
   "cell_type": "code",
   "execution_count": 20,
   "id": "86315b1c",
   "metadata": {},
   "outputs": [],
   "source": [
    "# Convert continuous variables to a tensor\n",
    "conts = np.stack([df[col].values for col in cont_cols], 1)\n",
    "conts = torch.tensor(conts, dtype=torch.float)\n"
   ]
  },
  {
   "cell_type": "code",
   "execution_count": 21,
   "id": "0c855a1a",
   "metadata": {},
   "outputs": [
    {
     "data": {
      "text/plain": [
       "tensor([1, 1, 1, 1, 1])"
      ]
     },
     "execution_count": 21,
     "metadata": {},
     "output_type": "execute_result"
    }
   ],
   "source": [
    "# Convert labels to a tensor\n",
    "# Convert labels to a tensor\n",
    "y = torch.tensor(df[y_col].values).flatten()\n",
    "\n",
    "\n",
    "y[:5]"
   ]
  },
  {
   "cell_type": "markdown",
   "id": "5ad57835",
   "metadata": {},
   "source": [
    "## Set an embedding size\n",
    "The rule of thumb for determining the embedding size is to divide the number of unique entries in each column by 2, but not to exceed 50."
   ]
  },
  {
   "cell_type": "code",
   "execution_count": 22,
   "id": "74a17420",
   "metadata": {},
   "outputs": [],
   "source": [
    "cat_szs = [len(df[col].cat.categories) for col in cat_cols]\n"
   ]
  },
  {
   "cell_type": "code",
   "execution_count": 23,
   "id": "e917fcac",
   "metadata": {},
   "outputs": [],
   "source": [
    "emb_szs = [(size,min(50,size//2)) for size in cat_szs]"
   ]
  },
  {
   "cell_type": "code",
   "execution_count": 24,
   "id": "3db2962a",
   "metadata": {},
   "outputs": [
    {
     "data": {
      "text/plain": [
       "[(3, 1), (2, 1), (5, 2), (2, 1), (4, 2)]"
      ]
     },
     "execution_count": 24,
     "metadata": {},
     "output_type": "execute_result"
    }
   ],
   "source": [
    "emb_szs"
   ]
  },
  {
   "cell_type": "markdown",
   "id": "c259618f",
   "metadata": {},
   "source": [
    "<div class=\"alert alert-danger\"><strong>Breaking down the embeddings steps</strong> (this code is for illustration purposes only.)</div>"
   ]
  },
  {
   "cell_type": "code",
   "execution_count": 25,
   "id": "806fcda7",
   "metadata": {},
   "outputs": [
    {
     "data": {
      "text/plain": [
       "tensor([[1, 1, 2, 1, 1],\n",
       "        [0, 1, 3, 0, 2]])"
      ]
     },
     "execution_count": 25,
     "metadata": {},
     "output_type": "execute_result"
    }
   ],
   "source": [
    "catz = cats[:2]\n",
    "catz"
   ]
  },
  {
   "cell_type": "code",
   "execution_count": 26,
   "id": "dd875004",
   "metadata": {},
   "outputs": [
    {
     "data": {
      "text/plain": [
       "[(3, 1), (2, 1), (5, 2), (2, 1), (4, 2)]"
      ]
     },
     "execution_count": 26,
     "metadata": {},
     "output_type": "execute_result"
    }
   ],
   "source": [
    "# This is passed in when the model is instantiated\n",
    "emb_szs"
   ]
  },
  {
   "cell_type": "code",
   "execution_count": 27,
   "id": "409f489e",
   "metadata": {},
   "outputs": [
    {
     "data": {
      "text/plain": [
       "ModuleList(\n",
       "  (0): Embedding(3, 1)\n",
       "  (1): Embedding(2, 1)\n",
       "  (2): Embedding(5, 2)\n",
       "  (3): Embedding(2, 1)\n",
       "  (4): Embedding(4, 2)\n",
       ")"
      ]
     },
     "execution_count": 27,
     "metadata": {},
     "output_type": "execute_result"
    }
   ],
   "source": [
    "selfembeds = nn.ModuleList([nn.Embedding(ni, nf) for ni,nf in emb_szs])\n",
    "selfembeds"
   ]
  },
  {
   "cell_type": "code",
   "execution_count": 28,
   "id": "b810c9e4",
   "metadata": {},
   "outputs": [
    {
     "data": {
      "text/plain": [
       "[tensor([[-1.4739],\n",
       "         [ 0.8258]], grad_fn=<EmbeddingBackward0>),\n",
       " tensor([[1.9264],\n",
       "         [1.9264]], grad_fn=<EmbeddingBackward0>),\n",
       " tensor([[ 1.1445,  0.0305],\n",
       "         [-0.2313,  0.2443]], grad_fn=<EmbeddingBackward0>),\n",
       " tensor([[ 1.6696],\n",
       "         [-0.9327]], grad_fn=<EmbeddingBackward0>),\n",
       " tensor([[ 1.3927,  0.1849],\n",
       "         [-0.8182,  1.6228]], grad_fn=<EmbeddingBackward0>)]"
      ]
     },
     "execution_count": 28,
     "metadata": {},
     "output_type": "execute_result"
    }
   ],
   "source": [
    "embeddingz = []\n",
    "\n",
    "for i,e in enumerate(selfembeds):\n",
    "    embeddingz.append(e(catz[:,i]))\n",
    "embeddingz"
   ]
  },
  {
   "cell_type": "markdown",
   "id": "4b0387b1",
   "metadata": {},
   "source": [
    "## Define a TabularModel"
   ]
  },
  {
   "cell_type": "code",
   "execution_count": 29,
   "id": "31491ab1",
   "metadata": {},
   "outputs": [],
   "source": [
    "class TabularModel(nn.Module):\n",
    "\n",
    "    def __init__(self, emb_szs, n_cont, out_sz, layers, p=0.5):\n",
    "        super().__init__()\n",
    "        self.embeds = nn.ModuleList([nn.Embedding(ni, nf) for ni,nf in emb_szs])\n",
    "        self.emb_drop = nn.Dropout(p)\n",
    "        self.bn_cont = nn.BatchNorm1d(n_cont)\n",
    "        \n",
    "        layerlist = []\n",
    "        n_emb = sum((nf for ni,nf in emb_szs))\n",
    "        n_in = n_emb + n_cont\n",
    "        \n",
    "        for i in layers:\n",
    "            layerlist.append(nn.Linear(n_in,i)) \n",
    "            layerlist.append(nn.ReLU(inplace=True))\n",
    "            layerlist.append(nn.BatchNorm1d(i))\n",
    "            layerlist.append(nn.Dropout(p))\n",
    "            n_in = i\n",
    "        layerlist.append(nn.Linear(layers[-1],out_sz))\n",
    "            \n",
    "        self.layers = nn.Sequential(*layerlist)\n",
    "    \n",
    "    def forward(self, x_cat, x_cont):\n",
    "        embeddings = []\n",
    "        for i,e in enumerate(self.embeds):\n",
    "            embeddings.append(e(x_cat[:,i]))\n",
    "        x = torch.cat(embeddings, 1)\n",
    "        x = self.emb_drop(x)\n",
    "        \n",
    "        x_cont = self.bn_cont(x_cont)\n",
    "        x = torch.cat([x, x_cont], 1)\n",
    "        x = self.layers(x)\n",
    "        return x"
   ]
  },
  {
   "cell_type": "code",
   "execution_count": 30,
   "id": "43512d4d",
   "metadata": {},
   "outputs": [],
   "source": [
    "torch.manual_seed(33)\n",
    "model = TabularModel(emb_szs, conts.shape[1], 2, [300,200], p=0.4) # out_sz = 2"
   ]
  },
  {
   "cell_type": "code",
   "execution_count": 31,
   "id": "0760ce90",
   "metadata": {},
   "outputs": [
    {
     "data": {
      "text/plain": [
       "TabularModel(\n",
       "  (embeds): ModuleList(\n",
       "    (0): Embedding(3, 1)\n",
       "    (1): Embedding(2, 1)\n",
       "    (2): Embedding(5, 2)\n",
       "    (3): Embedding(2, 1)\n",
       "    (4): Embedding(4, 2)\n",
       "  )\n",
       "  (emb_drop): Dropout(p=0.4, inplace=False)\n",
       "  (bn_cont): BatchNorm1d(5, eps=1e-05, momentum=0.1, affine=True, track_running_stats=True)\n",
       "  (layers): Sequential(\n",
       "    (0): Linear(in_features=12, out_features=300, bias=True)\n",
       "    (1): ReLU(inplace=True)\n",
       "    (2): BatchNorm1d(300, eps=1e-05, momentum=0.1, affine=True, track_running_stats=True)\n",
       "    (3): Dropout(p=0.4, inplace=False)\n",
       "    (4): Linear(in_features=300, out_features=200, bias=True)\n",
       "    (5): ReLU(inplace=True)\n",
       "    (6): BatchNorm1d(200, eps=1e-05, momentum=0.1, affine=True, track_running_stats=True)\n",
       "    (7): Dropout(p=0.4, inplace=False)\n",
       "    (8): Linear(in_features=200, out_features=2, bias=True)\n",
       "  )\n",
       ")"
      ]
     },
     "execution_count": 31,
     "metadata": {},
     "output_type": "execute_result"
    }
   ],
   "source": [
    "model"
   ]
  },
  {
   "cell_type": "markdown",
   "id": "ed22580b",
   "metadata": {},
   "source": [
    "## Define loss function & optimizer\n",
    "For our classification we'll replace the MSE loss function with <a href='https://pytorch.org/docs/stable/nn.html#crossentropyloss'><strong><tt>torch.nn.CrossEntropyLoss()</tt></strong></a><br>\n",
    "For the optimizer, we'll continue to use <a href='https://pytorch.org/docs/stable/optim.html#torch.optim.Adam'><strong><tt>torch.optim.Adam()</tt></strong></a>"
   ]
  },
  {
   "cell_type": "code",
   "execution_count": 32,
   "id": "dd8618b5",
   "metadata": {},
   "outputs": [],
   "source": [
    "criterion = nn.CrossEntropyLoss()\n",
    "optimizer = torch.optim.Adam(model.parameters(), lr=0.0001)"
   ]
  },
  {
   "cell_type": "markdown",
   "id": "f6ef96a9",
   "metadata": {},
   "source": [
    "## Perform train/test splits"
   ]
  },
  {
   "cell_type": "code",
   "execution_count": 33,
   "id": "23376071",
   "metadata": {},
   "outputs": [],
   "source": [
    "batch_size = int(len(df))\n",
    "test_size = int(len(df)*.2)"
   ]
  },
  {
   "cell_type": "code",
   "execution_count": 34,
   "id": "14fef6f8",
   "metadata": {},
   "outputs": [
    {
     "data": {
      "text/plain": [
       "1022"
      ]
     },
     "execution_count": 34,
     "metadata": {},
     "output_type": "execute_result"
    }
   ],
   "source": [
    "test_size"
   ]
  },
  {
   "cell_type": "code",
   "execution_count": 35,
   "id": "d7f08189",
   "metadata": {},
   "outputs": [],
   "source": [
    "cat_train = cats[:batch_size-test_size]\n",
    "cat_test = cats[batch_size-test_size:batch_size]\n",
    "con_train = conts[:batch_size-test_size]\n",
    "con_test = conts[batch_size-test_size:batch_size]\n",
    "y_train = y[:batch_size-test_size]\n",
    "y_test = y[batch_size-test_size:batch_size]"
   ]
  },
  {
   "cell_type": "code",
   "execution_count": 40,
   "id": "a5e08530",
   "metadata": {},
   "outputs": [
    {
     "name": "stdout",
     "output_type": "stream",
     "text": [
      "cat_train.size() torch.Size([4088, 5])\n",
      "cat_train.ndim 2\n",
      "tensor([[1, 1, 2, 1, 1],\n",
      "        [0, 1, 3, 0, 2],\n",
      "        [1, 1, 2, 0, 2],\n",
      "        [0, 1, 2, 1, 3],\n",
      "        [0, 1, 3, 0, 2]])\n"
     ]
    }
   ],
   "source": [
    "print('cat_train.size()',cat_train.size())\n",
    "print('cat_train.ndim', cat_train.ndim)\n",
    "print(cat_train[:5])"
   ]
  },
  {
   "cell_type": "code",
   "execution_count": 41,
   "id": "4853b4ba",
   "metadata": {},
   "outputs": [
    {
     "name": "stdout",
     "output_type": "stream",
     "text": [
      "con_train.size() torch.Size([4088, 5])\n",
      "con_train.ndim 2\n",
      "tensor([[9.0460e+03, 6.7000e+01, 0.0000e+00, 1.0000e+00, 2.2869e+02],\n",
      "        [5.1676e+04, 6.1000e+01, 0.0000e+00, 0.0000e+00, 2.0221e+02],\n",
      "        [3.1112e+04, 8.0000e+01, 0.0000e+00, 1.0000e+00, 1.0592e+02],\n",
      "        [6.0182e+04, 4.9000e+01, 0.0000e+00, 0.0000e+00, 1.7123e+02],\n",
      "        [1.6650e+03, 7.9000e+01, 1.0000e+00, 0.0000e+00, 1.7412e+02]])\n"
     ]
    }
   ],
   "source": [
    "print('con_train.size()',con_train.size())\n",
    "print('con_train.ndim', con_train.ndim)\n",
    "print(con_train[:5])"
   ]
  },
  {
   "cell_type": "markdown",
   "id": "82c02c2f",
   "metadata": {},
   "source": [
    "## Train the model"
   ]
  },
  {
   "cell_type": "code",
   "execution_count": 36,
   "id": "4d8b5146",
   "metadata": {},
   "outputs": [
    {
     "name": "stdout",
     "output_type": "stream",
     "text": [
      "epoch:   1  loss: 0.85183352\n",
      "epoch:  26  loss: 0.77384675\n",
      "epoch:  51  loss: 0.73964667\n",
      "epoch:  76  loss: 0.72040558\n",
      "epoch: 101  loss: 0.70778465\n",
      "epoch: 126  loss: 0.69143981\n",
      "epoch: 151  loss: 0.67810434\n",
      "epoch: 176  loss: 0.66985589\n",
      "epoch: 201  loss: 0.64412022\n",
      "epoch: 226  loss: 0.64225870\n",
      "epoch: 251  loss: 0.62807137\n",
      "epoch: 276  loss: 0.62074131\n",
      "epoch: 301  loss: 0.60530663\n",
      "epoch: 326  loss: 0.59711361\n",
      "epoch: 351  loss: 0.57664365\n",
      "epoch: 376  loss: 0.56745440\n",
      "epoch: 401  loss: 0.54914117\n",
      "epoch: 426  loss: 0.53542763\n",
      "epoch: 451  loss: 0.51767474\n",
      "epoch: 476  loss: 0.49734527\n",
      "epoch: 500  loss: 0.48769951\n",
      "\n",
      "Duration: 31 seconds\n"
     ]
    }
   ],
   "source": [
    "import time\n",
    "start_time = time.time()\n",
    "\n",
    "epochs =500\n",
    "losses = []\n",
    "\n",
    "for i in range(epochs):\n",
    "    i+=1\n",
    "    y_pred = model(cat_train, con_train)\n",
    "    loss = criterion(y_pred, y_train)\n",
    "    losses.append(loss.item())\n",
    "    \n",
    "    # a neat trick to save screen space:\n",
    "    if i%25 == 1:\n",
    "        print(f'epoch: {i:3}  loss: {loss.item():10.8f}')\n",
    "\n",
    "    optimizer.zero_grad()\n",
    "    loss.backward()\n",
    "    optimizer.step()\n",
    "\n",
    "print(f'epoch: {i:3}  loss: {loss.item():10.8f}') # print the last line\n",
    "print(f'\\nDuration: {time.time() - start_time:.0f} seconds') # print the time elapsed"
   ]
  },
  {
   "cell_type": "code",
   "execution_count": 120,
   "id": "a6163f2d",
   "metadata": {},
   "outputs": [
    {
     "data": {
      "image/png": "[encoded data removed]",
      "text/plain": [
       "<Figure size 432x288 with 1 Axes>"
      ]
     },
     "metadata": {
      "needs_background": "light"
     },
     "output_type": "display_data"
    }
   ],
   "source": [
    "plt.plot(range(epochs), losses)\n",
    "plt.ylabel('Cross Entropy Loss')\n",
    "plt.xlabel('epoch');"
   ]
  },
  {
   "cell_type": "code",
   "execution_count": 121,
   "id": "53ace6ea",
   "metadata": {},
   "outputs": [
    {
     "name": "stdout",
     "output_type": "stream",
     "text": [
      "CE Loss: 0.48738131\n"
     ]
    }
   ],
   "source": [
    "# TO EVALUATE THE ENTIRE TEST SET\n",
    "with torch.no_grad():\n",
    "    y_val = model(cat_test, con_test)\n",
    "    loss = criterion(y_val, y_test)\n",
    "print(f'CE Loss: {loss:.8f}')"
   ]
  },
  {
   "cell_type": "code",
   "execution_count": 122,
   "id": "dd67fdbe",
   "metadata": {},
   "outputs": [
    {
     "name": "stdout",
     "output_type": "stream",
     "text": [
      "MODEL OUTPUT               ARGMAX  Y_TEST\n",
      "tensor([-0.0729,  0.1713])    1      0   \n",
      "tensor([ 0.8760, -0.7349])    0      0   \n",
      "tensor([ 0.3976, -0.1071])    0      0   \n",
      "tensor([ 0.3624, -0.7197])    0      0   \n",
      "tensor([ 0.2506, -0.7305])    0      0   \n",
      "tensor([ 1.1838, -0.2646])    0      0   \n",
      "tensor([-0.7949, -0.5070])    1      0   \n",
      "tensor([1.9004, 0.0776])      0      0   \n",
      "tensor([1.5035, 1.5681])      1      0   \n",
      "tensor([-0.6873, -0.3127])    1      0   \n",
      "tensor([ 0.4021, -0.6861])    0      0   \n",
      "tensor([ 0.5487, -0.6342])    0      0   \n",
      "tensor([ 0.4644, -0.8227])    0      0   \n",
      "tensor([-0.2225, -1.0212])    0      0   \n",
      "tensor([ 0.0465, -0.4539])    0      0   \n",
      "tensor([-0.4253, -1.7708])    0      0   \n",
      "tensor([0.0424, 0.4290])      1      0   \n",
      "tensor([ 2.0346, -0.4077])    0      0   \n",
      "tensor([ 0.4088, -0.5707])    0      0   \n",
      "tensor([-0.6447, -0.5718])    1      0   \n",
      "tensor([ 0.5384, -0.4439])    0      0   \n",
      "tensor([ 0.7302, -0.9981])    0      0   \n",
      "tensor([0.5214, 0.7620])      1      0   \n",
      "tensor([-0.0242,  0.2040])    1      0   \n",
      "tensor([ 0.2981, -1.3575])    0      0   \n",
      "tensor([0.3520, 0.1876])      0      0   \n",
      "tensor([ 0.4764, -0.3947])    0      0   \n",
      "tensor([ 1.1906, -0.2369])    0      0   \n",
      "tensor([ 0.2123, -0.3500])    0      0   \n",
      "tensor([ 0.4991, -0.1191])    0      0   \n",
      "tensor([ 0.5874, -1.1588])    0      0   \n",
      "tensor([ 0.4468, -0.5228])    0      0   \n",
      "tensor([-0.5263, -0.6877])    0      0   \n",
      "tensor([-0.4188, -0.8038])    0      0   \n",
      "tensor([ 0.0824, -0.6622])    0      0   \n",
      "tensor([-0.7605, -0.1749])    1      0   \n",
      "tensor([ 0.1829, -0.5625])    0      0   \n",
      "tensor([-0.0365,  0.1723])    1      0   \n",
      "tensor([-0.2525, -0.7875])    0      0   \n",
      "tensor([ 1.6180, -1.1723])    0      0   \n",
      "tensor([0.4698, 0.0979])      0      0   \n",
      "tensor([1.5336, 0.0844])      0      0   \n",
      "tensor([-0.0693, -1.1013])    0      0   \n",
      "tensor([-0.1005, -0.7512])    0      0   \n",
      "tensor([0.4842, 0.0201])      0      0   \n",
      "tensor([0.6222, 0.4097])      0      0   \n",
      "tensor([ 0.1857, -0.2978])    0      0   \n",
      "tensor([0.5995, 0.9025])      1      0   \n",
      "tensor([0.1390, 0.5696])      1      0   \n",
      "tensor([-0.4131, -0.6768])    0      0   \n",
      "\n",
      "38 out of 50 = 76.00% correct\n"
     ]
    }
   ],
   "source": [
    "rows = 50\n",
    "correct = 0\n",
    "print(f'{\"MODEL OUTPUT\":26} ARGMAX  Y_TEST')\n",
    "for i in range(rows):\n",
    "    print(f'{str(y_val[i]):26} {y_val[i].argmax():^7}{y_test[i]:^7}')\n",
    "    if y_val[i].argmax().item() == y_test[i]:\n",
    "        correct += 1\n",
    "print(f'\\n{correct} out of {rows} = {100*correct/rows:.2f}% correct')"
   ]
  },
  {
   "cell_type": "code",
   "execution_count": null,
   "id": "8873a191",
   "metadata": {},
   "outputs": [],
   "source": []
  }
 ],
 "metadata": {
  "kernelspec": {
   "display_name": "Python 3",
   "language": "python",
   "name": "python3"
  },
  "language_info": {
   "codemirror_mode": {
    "name": "ipython",
    "version": 3
   },
   "file_extension": ".py",
   "mimetype": "text/x-python",
   "name": "python",
   "nbconvert_exporter": "python",
   "pygments_lexer": "ipython3",
   "version": "3.8.8"
  }
 },
 "nbformat": 4,
 "nbformat_minor": 5
}
